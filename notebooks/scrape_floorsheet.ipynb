{
 "cells": [
  {
   "cell_type": "markdown",
   "metadata": {},
   "source": [
    "# Merolagani\n",
    "\n",
    "> use this for getting floorsheet of a particular day"
   ]
  },
  {
   "cell_type": "code",
   "execution_count": 7,
   "metadata": {},
   "outputs": [],
   "source": [
    "from selenium import webdriver\n",
    "from datetime import datetime\n",
    "from bs4 import BeautifulSoup\n",
    "import pandas as pd\n",
    "from selenium.common.exceptions import NoSuchElementException\n",
    "from selenium.webdriver.chrome.options import Options\n",
    "import sys"
   ]
  },
  {
   "cell_type": "code",
   "execution_count": 8,
   "metadata": {},
   "outputs": [],
   "source": [
    "def search(driver, date):\n",
    "    \"\"\"\n",
    "    Date in mm/dd/yyyy\n",
    "    \"\"\"\n",
    "    driver.get(\"https://merolagani.com/Floorsheet.aspx\")\n",
    "    date_input = driver.find_element_by_xpath('/html/body/form/div[4]/div[4]/div/div/div[1]/div[4]/input')\n",
    "    search_btn = driver.find_element_by_xpath('/html/body/form/div[4]/div[4]/div/div/div[2]/a[1]')\n",
    "    date_input.send_keys(date)\n",
    "    search_btn.click()\n",
    "    if driver.find_elements_by_xpath(\"//*[contains(text(), 'Could not find floorsheet matching the search criteria')]\"):\n",
    "        print(\"No data found for the given search.\")\n",
    "        print(\"Aborting script ......\")\n",
    "        sys.exit()"
   ]
  },
  {
   "cell_type": "code",
   "execution_count": 3,
   "metadata": {},
   "outputs": [],
   "source": [
    "def get_page_table(driver, table_class):\n",
    "    soup = BeautifulSoup(driver.page_source,'html')\n",
    "    table = soup.find(\"table\", {\"class\":table_class})\n",
    "    tab_data = [[cell.text.replace('\\r', '').replace('\\n', '') for cell in row.find_all([\"th\",\"td\"])]\n",
    "                        for row in table.find_all(\"tr\")]\n",
    "    df = pd.DataFrame(tab_data)\n",
    "    return df"
   ]
  },
  {
   "cell_type": "code",
   "execution_count": 4,
   "metadata": {},
   "outputs": [],
   "source": [
    "def scrape_data(driver, date):\n",
    "    start_time = datetime.now()\n",
    "    search(driver, date = date)\n",
    "    df = pd.DataFrame()\n",
    "    while True:\n",
    "        page_table_df = get_page_table(driver, table_class=\"table table-bordered table-striped table-hover sortable\")\n",
    "        df = df.append(page_table_df, ignore_index = True)\n",
    "        try:\n",
    "            next_btn = driver.find_element_by_link_text('Next')\n",
    "            driver.execute_script(\"arguments[0].click();\", next_btn)\n",
    "        except NoSuchElementException:\n",
    "            break\n",
    "    print(f\"Time taken to scrape: {datetime.now() - start_time}\")    \n",
    "    return df"
   ]
  },
  {
   "cell_type": "code",
   "execution_count": 5,
   "metadata": {},
   "outputs": [],
   "source": [
    "def clean_df(df):\n",
    "    new_df = df.drop_duplicates(keep='first') # Dropping Duplicates\n",
    "    new_header = new_df.iloc[0] # grabing the first row for the header\n",
    "    new_df = new_df[1:] # taking the data lower than the header row\n",
    "    new_df.columns = new_header # setting the header row as the df header\n",
    "    new_df.drop([\"#\"], axis=1, inplace=True)\n",
    "    new_df[\"Rate\"] = new_df[\"Rate\"].apply(lambda x:float(x.replace(\",\", \"\"))) # Convert Rate to Float\n",
    "    new_df[\"Amount\"] = new_df[\"Amount\"].apply(lambda x:float(x.replace(\",\", \"\"))) # Convert Amount to Float\n",
    "    return new_df"
   ]
  },
  {
   "cell_type": "code",
   "execution_count": 6,
   "metadata": {},
   "outputs": [
    {
     "name": "stderr",
     "output_type": "stream",
     "text": [
      "/home/suyog/anaconda3/lib/python3.7/site-packages/ipykernel_launcher.py:3: DeprecationWarning: use options instead of chrome_options\n",
      "  This is separate from the ipykernel package so we can avoid doing imports until\n"
     ]
    },
    {
     "name": "stdout",
     "output_type": "stream",
     "text": [
      "No data found for the given search.\n",
      "Aborting script ......\n"
     ]
    },
    {
     "ename": "SystemExit",
     "evalue": "",
     "output_type": "error",
     "traceback": [
      "An exception has occurred, use %tb to see the full traceback.\n",
      "\u001b[0;31mSystemExit\u001b[0m\n"
     ]
    },
    {
     "name": "stderr",
     "output_type": "stream",
     "text": [
      "/home/suyog/anaconda3/lib/python3.7/site-packages/IPython/core/interactiveshell.py:3339: UserWarning: To exit: use 'exit', 'quit', or Ctrl-D.\n",
      "  warn(\"To exit: use 'exit', 'quit', or Ctrl-D.\", stacklevel=1)\n"
     ]
    }
   ],
   "source": [
    "options = Options()\n",
    "options.headless = True\n",
    "driver = webdriver.Chrome(chrome_options=options) # Start Browser\n",
    "\n",
    "date = datetime.today().strftime('%m/%d/%Y') # Get today's date\n",
    "search(driver, date) # Search the webpage\n",
    "df = scrape_data(driver, date) # Scraping\n",
    "final_df = clean_df(df) # Cleaning"
   ]
  },
  {
   "cell_type": "code",
   "execution_count": null,
   "metadata": {},
   "outputs": [],
   "source": [
    "final_df.head()"
   ]
  },
  {
   "cell_type": "code",
   "execution_count": null,
   "metadata": {},
   "outputs": [],
   "source": [
    "file_name = date.replace(\"/\", \"_\")\n",
    "final_df.to_csv(f\"data/{file_name}.csv\", index=False) # Save file"
   ]
  },
  {
   "cell_type": "markdown",
   "metadata": {},
   "source": [
    "# Nepalweb\n",
    "\n",
    "> use this to get data form nepalweb"
   ]
  },
  {
   "cell_type": "code",
   "execution_count": 13,
   "metadata": {},
   "outputs": [],
   "source": [
    "import requests\n",
    "import json\n",
    "import pandas as pd\n",
    "from fake_useragent import UserAgent\n",
    "import time"
   ]
  },
  {
   "cell_type": "code",
   "execution_count": 2,
   "metadata": {},
   "outputs": [],
   "source": [
    "ua = UserAgent()\n",
    "headers = {\"User-Agent\": ua.random}\n",
    "url = 'https://newweb.nepalstock.com.np/api/nots/nepse-data/floorsheet?page=0&size=500&sort=contractId,desc'\n",
    "r = requests.get(url, allow_redirects=True,headers=headers)"
   ]
  },
  {
   "cell_type": "code",
   "execution_count": 3,
   "metadata": {},
   "outputs": [],
   "source": [
    "data = json.loads(r.content)"
   ]
  },
  {
   "cell_type": "code",
   "execution_count": 4,
   "metadata": {},
   "outputs": [],
   "source": [
    "floorsheet = data['floorsheets']['content']"
   ]
  },
  {
   "cell_type": "code",
   "execution_count": 5,
   "metadata": {},
   "outputs": [],
   "source": [
    "df = pd.DataFrame(floorsheet)"
   ]
  },
  {
   "cell_type": "code",
   "execution_count": 6,
   "metadata": {},
   "outputs": [
    {
     "name": "stdout",
     "output_type": "stream",
     "text": [
      "--- 27.05197548866272 seconds ---\n"
     ]
    }
   ],
   "source": [
    "start_time = time.time()\n",
    "i = 0\n",
    "df = pd.DataFrame()\n",
    "\n",
    "\n",
    "while True:\n",
    "    headers = {\"User-Agent\": ua.random}\n",
    "    url = f'https://newweb.nepalstock.com.np/api/nots/nepse-data/floorsheet?page={i}&size=500&sort=contractId,desc'\n",
    "    try:\n",
    "        r = requests.get(url, allow_redirects=True,headers=headers)\n",
    "        data = json.loads(r.content)\n",
    "        floorsheet = data['floorsheets']['content']\n",
    "        if len(floorsheet)==0:\n",
    "            break\n",
    "        df_i = pd.DataFrame(floorsheet)\n",
    "        df = df.append(df_i)\n",
    "        i+=1\n",
    "        time.sleep(0.2)\n",
    "    except:\n",
    "        time.sleep(1)\n",
    "        continue\n",
    "        \n",
    "print(\"--- %s seconds ---\" % (time.time() - start_time))"
   ]
  },
  {
   "cell_type": "code",
   "execution_count": 10,
   "metadata": {},
   "outputs": [],
   "source": [
    "df = df.drop(['id', 'contractType'], axis=1)"
   ]
  },
  {
   "cell_type": "code",
   "execution_count": 12,
   "metadata": {},
   "outputs": [],
   "source": [
    "df.to_csv('data.csv', index=False)"
   ]
  },
  {
   "cell_type": "markdown",
   "metadata": {},
   "source": [
    "# For saved data"
   ]
  },
  {
   "cell_type": "code",
   "execution_count": 89,
   "metadata": {},
   "outputs": [],
   "source": [
    "df = pd.read_csv('../django_app/data.csv')"
   ]
  },
  {
   "cell_type": "code",
   "execution_count": 90,
   "metadata": {},
   "outputs": [
    {
     "data": {
      "text/html": [
       "<div>\n",
       "<style scoped>\n",
       "    .dataframe tbody tr th:only-of-type {\n",
       "        vertical-align: middle;\n",
       "    }\n",
       "\n",
       "    .dataframe tbody tr th {\n",
       "        vertical-align: top;\n",
       "    }\n",
       "\n",
       "    .dataframe thead th {\n",
       "        text-align: right;\n",
       "    }\n",
       "</style>\n",
       "<table border=\"1\" class=\"dataframe\">\n",
       "  <thead>\n",
       "    <tr style=\"text-align: right;\">\n",
       "      <th></th>\n",
       "      <th>contractId</th>\n",
       "      <th>stockSymbol</th>\n",
       "      <th>buyerMemberId</th>\n",
       "      <th>sellerMemberId</th>\n",
       "      <th>contractQuantity</th>\n",
       "      <th>contractRate</th>\n",
       "      <th>contractAmount</th>\n",
       "      <th>businessDate</th>\n",
       "      <th>tradeBookId</th>\n",
       "      <th>stockId</th>\n",
       "      <th>buyerBrokerName</th>\n",
       "      <th>sellerBrokerName</th>\n",
       "      <th>tradeTime</th>\n",
       "      <th>securityName</th>\n",
       "    </tr>\n",
       "  </thead>\n",
       "  <tbody>\n",
       "    <tr>\n",
       "      <th>0</th>\n",
       "      <td>2021060205000158</td>\n",
       "      <td>SHL</td>\n",
       "      <td>25</td>\n",
       "      <td>58</td>\n",
       "      <td>100</td>\n",
       "      <td>230.0</td>\n",
       "      <td>23000.0</td>\n",
       "      <td>2021-06-02</td>\n",
       "      <td>30661551</td>\n",
       "      <td>147</td>\n",
       "      <td>Sweta Securities Private Limited</td>\n",
       "      <td>Naasa Securities Co. Ltd.</td>\n",
       "      <td>2021-06-02T12:05:38.127605</td>\n",
       "      <td>Soaltee Hotel Limited</td>\n",
       "    </tr>\n",
       "    <tr>\n",
       "      <th>1</th>\n",
       "      <td>2021060205000157</td>\n",
       "      <td>SHL</td>\n",
       "      <td>34</td>\n",
       "      <td>58</td>\n",
       "      <td>900</td>\n",
       "      <td>230.0</td>\n",
       "      <td>207000.0</td>\n",
       "      <td>2021-06-02</td>\n",
       "      <td>30661550</td>\n",
       "      <td>147</td>\n",
       "      <td>Vision Securities Pvt. Ltd</td>\n",
       "      <td>Naasa Securities Co. Ltd.</td>\n",
       "      <td>2021-06-02T12:05:38.127178</td>\n",
       "      <td>Soaltee Hotel Limited</td>\n",
       "    </tr>\n",
       "    <tr>\n",
       "      <th>2</th>\n",
       "      <td>2021060205000156</td>\n",
       "      <td>SHL</td>\n",
       "      <td>34</td>\n",
       "      <td>58</td>\n",
       "      <td>2300</td>\n",
       "      <td>230.0</td>\n",
       "      <td>529000.0</td>\n",
       "      <td>2021-06-02</td>\n",
       "      <td>30661419</td>\n",
       "      <td>147</td>\n",
       "      <td>Vision Securities Pvt. Ltd</td>\n",
       "      <td>Naasa Securities Co. Ltd.</td>\n",
       "      <td>2021-06-02T12:05:22.05489</td>\n",
       "      <td>Soaltee Hotel Limited</td>\n",
       "    </tr>\n",
       "    <tr>\n",
       "      <th>3</th>\n",
       "      <td>2021060205000155</td>\n",
       "      <td>SHL</td>\n",
       "      <td>45</td>\n",
       "      <td>58</td>\n",
       "      <td>700</td>\n",
       "      <td>230.0</td>\n",
       "      <td>161000.0</td>\n",
       "      <td>2021-06-02</td>\n",
       "      <td>30661417</td>\n",
       "      <td>147</td>\n",
       "      <td>Imperial Securities Company Pvt. Ltd.</td>\n",
       "      <td>Naasa Securities Co. Ltd.</td>\n",
       "      <td>2021-06-02T12:05:22.054327</td>\n",
       "      <td>Soaltee Hotel Limited</td>\n",
       "    </tr>\n",
       "    <tr>\n",
       "      <th>4</th>\n",
       "      <td>2021060205000154</td>\n",
       "      <td>SHL</td>\n",
       "      <td>42</td>\n",
       "      <td>45</td>\n",
       "      <td>120</td>\n",
       "      <td>232.0</td>\n",
       "      <td>27840.0</td>\n",
       "      <td>2021-06-02</td>\n",
       "      <td>30659778</td>\n",
       "      <td>147</td>\n",
       "      <td>Sani Securities Company Ltd.</td>\n",
       "      <td>Imperial Securities Company Pvt. Ltd.</td>\n",
       "      <td>2021-06-02T12:03:04.744962</td>\n",
       "      <td>Soaltee Hotel Limited</td>\n",
       "    </tr>\n",
       "  </tbody>\n",
       "</table>\n",
       "</div>"
      ],
      "text/plain": [
       "         contractId stockSymbol buyerMemberId sellerMemberId  \\\n",
       "0  2021060205000158         SHL            25             58   \n",
       "1  2021060205000157         SHL            34             58   \n",
       "2  2021060205000156         SHL            34             58   \n",
       "3  2021060205000155         SHL            45             58   \n",
       "4  2021060205000154         SHL            42             45   \n",
       "\n",
       "   contractQuantity  contractRate  contractAmount businessDate  tradeBookId  \\\n",
       "0               100         230.0         23000.0   2021-06-02     30661551   \n",
       "1               900         230.0        207000.0   2021-06-02     30661550   \n",
       "2              2300         230.0        529000.0   2021-06-02     30661419   \n",
       "3               700         230.0        161000.0   2021-06-02     30661417   \n",
       "4               120         232.0         27840.0   2021-06-02     30659778   \n",
       "\n",
       "   stockId                        buyerBrokerName  \\\n",
       "0      147       Sweta Securities Private Limited   \n",
       "1      147             Vision Securities Pvt. Ltd   \n",
       "2      147             Vision Securities Pvt. Ltd   \n",
       "3      147  Imperial Securities Company Pvt. Ltd.   \n",
       "4      147           Sani Securities Company Ltd.   \n",
       "\n",
       "                        sellerBrokerName                   tradeTime  \\\n",
       "0              Naasa Securities Co. Ltd.  2021-06-02T12:05:38.127605   \n",
       "1              Naasa Securities Co. Ltd.  2021-06-02T12:05:38.127178   \n",
       "2              Naasa Securities Co. Ltd.   2021-06-02T12:05:22.05489   \n",
       "3              Naasa Securities Co. Ltd.  2021-06-02T12:05:22.054327   \n",
       "4  Imperial Securities Company Pvt. Ltd.  2021-06-02T12:03:04.744962   \n",
       "\n",
       "            securityName  \n",
       "0  Soaltee Hotel Limited  \n",
       "1  Soaltee Hotel Limited  \n",
       "2  Soaltee Hotel Limited  \n",
       "3  Soaltee Hotel Limited  \n",
       "4  Soaltee Hotel Limited  "
      ]
     },
     "execution_count": 90,
     "metadata": {},
     "output_type": "execute_result"
    }
   ],
   "source": [
    "df.head()"
   ]
  },
  {
   "cell_type": "code",
   "execution_count": 91,
   "metadata": {},
   "outputs": [],
   "source": [
    "df['tradeTime'] = pd.to_datetime(df['tradeTime']).astype(str)"
   ]
  },
  {
   "cell_type": "code",
   "execution_count": 94,
   "metadata": {},
   "outputs": [
    {
     "data": {
      "text/plain": [
       "dict"
      ]
     },
     "execution_count": 94,
     "metadata": {},
     "output_type": "execute_result"
    }
   ],
   "source": [
    "type(df.loc[0].to_dict()"
   ]
  },
  {
   "cell_type": "code",
   "execution_count": 107,
   "metadata": {},
   "outputs": [
    {
     "name": "stdout",
     "output_type": "stream",
     "text": [
      "<class 'dict'>\n"
     ]
    }
   ],
   "source": [
    "for i in range(len(df)):\n",
    "    print(type(df.loc[i].to_dict()))\n",
    "    break"
   ]
  },
  {
   "cell_type": "code",
   "execution_count": 103,
   "metadata": {},
   "outputs": [
    {
     "data": {
      "text/plain": [
       "26504"
      ]
     },
     "execution_count": 103,
     "metadata": {},
     "output_type": "execute_result"
    }
   ],
   "source": [
    "len(df)"
   ]
  },
  {
   "cell_type": "code",
   "execution_count": null,
   "metadata": {},
   "outputs": [],
   "source": []
  }
 ],
 "metadata": {
  "kernelspec": {
   "display_name": "Python 3",
   "language": "python",
   "name": "python3"
  },
  "language_info": {
   "codemirror_mode": {
    "name": "ipython",
    "version": 3
   },
   "file_extension": ".py",
   "mimetype": "text/x-python",
   "name": "python",
   "nbconvert_exporter": "python",
   "pygments_lexer": "ipython3",
   "version": "3.7.6"
  }
 },
 "nbformat": 4,
 "nbformat_minor": 4
}
